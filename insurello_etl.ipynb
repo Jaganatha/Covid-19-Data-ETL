{
 "cells": [
  {
   "cell_type": "code",
   "execution_count": 44,
   "metadata": {},
   "outputs": [],
   "source": [
    "import os\n",
    "import json\n",
    "import glob\n",
    "import psycopg2\n",
    "import pandas as pd\n",
    "import datetime\n",
    "from glom import glom\n",
    "import re"
   ]
  },
  {
   "cell_type": "code",
   "execution_count": 2,
   "metadata": {},
   "outputs": [
    {
     "data": {
      "text/plain": [
       "'C:\\\\Users\\\\Jaganath Babu\\\\Desktop\\\\Data Modelling projects\\\\Project 1B -song data ETL using cassandra'"
      ]
     },
     "execution_count": 2,
     "metadata": {},
     "output_type": "execute_result"
    }
   ],
   "source": [
    "os.getcwd()"
   ]
  },
  {
   "cell_type": "code",
   "execution_count": 3,
   "metadata": {},
   "outputs": [],
   "source": [
    "os.chdir('C:\\\\Users\\\\Jaganath Babu')"
   ]
  },
  {
   "cell_type": "code",
   "execution_count": 4,
   "metadata": {},
   "outputs": [
    {
     "data": {
      "text/plain": [
       "'C:\\\\Users\\\\Jaganath Babu'"
      ]
     },
     "execution_count": 4,
     "metadata": {},
     "output_type": "execute_result"
    }
   ],
   "source": [
    "os.getcwd()"
   ]
  },
  {
   "cell_type": "code",
   "execution_count": 5,
   "metadata": {},
   "outputs": [],
   "source": [
    "confirmed = pd.read_json('covid_19_confirmed.json', lines = False)"
   ]
  },
  {
   "cell_type": "code",
   "execution_count": 6,
   "metadata": {},
   "outputs": [],
   "source": [
    "vaccined = pd.read_json('covid_19_vaccines.json', lines = False)"
   ]
  },
  {
   "cell_type": "code",
   "execution_count": 7,
   "metadata": {},
   "outputs": [],
   "source": [
    "with open('covid_19_confirmed.json','r') as f:\n",
    "    data = json.loads(f.read())\n",
    "data_keys = data.keys()"
   ]
  },
  {
   "cell_type": "code",
   "execution_count": 8,
   "metadata": {},
   "outputs": [
    {
     "data": {
      "text/plain": [
       "194"
      ]
     },
     "execution_count": 8,
     "metadata": {},
     "output_type": "execute_result"
    }
   ],
   "source": [
    "len(data_keys)"
   ]
  },
  {
   "cell_type": "code",
   "execution_count": 9,
   "metadata": {},
   "outputs": [
    {
     "name": "stdout",
     "output_type": "stream",
     "text": [
      "dict_keys(['Afghanistan', 'Albania', 'Algeria', 'Andorra', 'Angola', 'Antigua and Barbuda', 'Argentina', 'Armenia', 'Australia', 'Austria', 'Azerbaijan', 'Bahamas', 'Bahrain', 'Bangladesh', 'Barbados', 'Belarus', 'Belgium', 'Belize', 'Benin', 'Bhutan', 'Bolivia', 'Bosnia and Herzegovina', 'Botswana', 'Brazil', 'Brunei', 'Bulgaria', 'Burkina Faso', 'Burma', 'Burundi', 'Cabo Verde', 'Cambodia', 'Cameroon', 'Canada', 'Central African Republic', 'Chad', 'Chile', 'China', 'Colombia', 'Comoros', 'Congo (Brazzaville)', 'Congo (Kinshasa)', 'Costa Rica', \"Cote d'Ivoire\", 'Croatia', 'Cuba', 'Cyprus', 'Czechia', 'Denmark', 'Diamond Princess', 'Djibouti', 'Dominica', 'Dominican Republic', 'Ecuador', 'Egypt', 'El Salvador', 'Equatorial Guinea', 'Eritrea', 'Estonia', 'Eswatini', 'Ethiopia', 'Fiji', 'Finland', 'France', 'Gabon', 'Gambia', 'Georgia', 'Germany', 'Ghana', 'Greece', 'Grenada', 'Guatemala', 'Guinea', 'Guinea-Bissau', 'Guyana', 'Haiti', 'Holy See', 'Honduras', 'Hungary', 'Iceland', 'India', 'Indonesia', 'Iran', 'Iraq', 'Ireland', 'Israel', 'Italy', 'Jamaica', 'Japan', 'Jordan', 'Kazakhstan', 'Kenya', 'Kiribati', 'Korea, South', 'Kosovo', 'Kuwait', 'Kyrgyzstan', 'Laos', 'Latvia', 'Lebanon', 'Lesotho', 'Liberia', 'Libya', 'Liechtenstein', 'Lithuania', 'Luxembourg', 'MS Zaandam', 'Madagascar', 'Malawi', 'Malaysia', 'Maldives', 'Mali', 'Malta', 'Marshall Islands', 'Mauritania', 'Mauritius', 'Mexico', 'Micronesia', 'Moldova', 'Monaco', 'Mongolia', 'Montenegro', 'Morocco', 'Mozambique', 'Namibia', 'Nepal', 'Netherlands', 'New Zealand', 'Nicaragua', 'Niger', 'Nigeria', 'North Macedonia', 'Norway', 'Oman', 'Pakistan', 'Panama', 'Papua New Guinea', 'Paraguay', 'Peru', 'Philippines', 'Poland', 'Portugal', 'Qatar', 'Romania', 'Russia', 'Rwanda', 'Saint Kitts and Nevis', 'Saint Lucia', 'Saint Vincent and the Grenadines', 'Samoa', 'San Marino', 'Sao Tome and Principe', 'Saudi Arabia', 'Senegal', 'Serbia', 'Seychelles', 'Sierra Leone', 'Singapore', 'Slovakia', 'Slovenia', 'Solomon Islands', 'Somalia', 'South Africa', 'South Sudan', 'Spain', 'Sri Lanka', 'Sudan', 'Suriname', 'Sweden', 'Switzerland', 'Syria', 'Taiwan*', 'Tajikistan', 'Tanzania', 'Thailand', 'Timor-Leste', 'Togo', 'Trinidad and Tobago', 'Tunisia', 'Turkey', 'US', 'Uganda', 'Ukraine', 'United Arab Emirates', 'United Kingdom', 'Uruguay', 'Uzbekistan', 'Vanuatu', 'Venezuela', 'Vietnam', 'West Bank and Gaza', 'Yemen', 'Zambia', 'Zimbabwe', 'Global'])\n"
     ]
    }
   ],
   "source": [
    "print(data_keys)"
   ]
  },
  {
   "cell_type": "code",
   "execution_count": 10,
   "metadata": {},
   "outputs": [],
   "source": [
    "def create_dataframe(data_keys, data_df):\n",
    "    data_df_list_of_dict = []\n",
    "    for i in data_keys:\n",
    "        temp_dict = {\"country\": None, \"population\": None, \"sq_km_area\": None, \"life_expectancy\": None, \"elevation_in_meters\": None, \"continent\":None, \"abbreviation\": None,\n",
    "                    \"location\": None, \"iso\": None, \"capital_city\": None}\n",
    "        temp_dict['country'] = str(i)\n",
    "        if \"population\" in data_df[i][\"All\"]:\n",
    "            temp_dict[\"population\"] = data_df[i]['All'][\"population\"]\n",
    "        if \"sq_km_area\" in data_df[i][\"All\"]:\n",
    "            temp_dict[\"sq_km_area\"] = data_df[i]['All'][\"sq_km_area\"]\n",
    "        if \"life_expectancy\" in data_df[i][\"All\"]:\n",
    "            temp_dict[\"life_expectancy\"] = data_df[i]['All'][\"life_expectancy\"]\n",
    "        if \"elevation_in_meters\" in data_df[i][\"All\"]:\n",
    "            temp_dict[\"elevation_in_meters\"] = data_df[i]['All'][\"elevation_in_meters\"]\n",
    "        if \"continent\" in data_df[i][\"All\"]:\n",
    "            temp_dict[\"continent\"] = data_df[i]['All'][\"continent\"]\n",
    "        if \"abbreviation\" in data_df[i][\"All\"]:\n",
    "            temp_dict[\"abbreviation\"] = data_df[i]['All'][\"abbreviation\"]\n",
    "        if \"location\" in data_df[i][\"All\"]:\n",
    "            temp_dict[\"location\"] = data_df[i]['All'][\"location\"]\n",
    "        if \"iso\" in data_df[i][\"All\"]:\n",
    "            temp_dict[\"iso\"] = data_df[i]['All'][\"iso\"]\n",
    "        if \"capital_city\" in data_df[i][\"All\"]:\n",
    "            temp_dict[\"capital_city\"] = data_df[i]['All'][\"capital_city\"]\n",
    "        data_df_list_of_dict.append(temp_dict)\n",
    "    return data_df_list_of_dict"
   ]
  },
  {
   "cell_type": "code",
   "execution_count": 11,
   "metadata": {},
   "outputs": [],
   "source": [
    "new_data = create_dataframe(data_keys, data)"
   ]
  },
  {
   "cell_type": "code",
   "execution_count": 12,
   "metadata": {},
   "outputs": [],
   "source": [
    "confirmed_df = pd.DataFrame(data = new_data, columns = [\"country\", \"population\", \"sq_km_area\", \"life_expectancy\", \"elevation_in_meters\", \"continent\", \"abbreviation\",\n",
    "                    \"location\", \"iso\", \"capital_city\"])"
   ]
  },
  {
   "cell_type": "code",
   "execution_count": 13,
   "metadata": {},
   "outputs": [
    {
     "data": {
      "text/html": [
       "<div>\n",
       "<style scoped>\n",
       "    .dataframe tbody tr th:only-of-type {\n",
       "        vertical-align: middle;\n",
       "    }\n",
       "\n",
       "    .dataframe tbody tr th {\n",
       "        vertical-align: top;\n",
       "    }\n",
       "\n",
       "    .dataframe thead th {\n",
       "        text-align: right;\n",
       "    }\n",
       "</style>\n",
       "<table border=\"1\" class=\"dataframe\">\n",
       "  <thead>\n",
       "    <tr style=\"text-align: right;\">\n",
       "      <th></th>\n",
       "      <th>country</th>\n",
       "      <th>population</th>\n",
       "      <th>sq_km_area</th>\n",
       "      <th>life_expectancy</th>\n",
       "      <th>elevation_in_meters</th>\n",
       "      <th>continent</th>\n",
       "      <th>abbreviation</th>\n",
       "      <th>location</th>\n",
       "      <th>iso</th>\n",
       "      <th>capital_city</th>\n",
       "    </tr>\n",
       "  </thead>\n",
       "  <tbody>\n",
       "    <tr>\n",
       "      <th>0</th>\n",
       "      <td>Afghanistan</td>\n",
       "      <td>35530081.0</td>\n",
       "      <td>652090.0</td>\n",
       "      <td>45.9</td>\n",
       "      <td>None</td>\n",
       "      <td>Asia</td>\n",
       "      <td>AF</td>\n",
       "      <td>Southern and Central Asia</td>\n",
       "      <td>4.0</td>\n",
       "      <td>Kabul</td>\n",
       "    </tr>\n",
       "    <tr>\n",
       "      <th>1</th>\n",
       "      <td>Albania</td>\n",
       "      <td>2930187.0</td>\n",
       "      <td>28748.0</td>\n",
       "      <td>71.6</td>\n",
       "      <td>None</td>\n",
       "      <td>Europe</td>\n",
       "      <td>AL</td>\n",
       "      <td>Southern Europe</td>\n",
       "      <td>8.0</td>\n",
       "      <td>Tirana</td>\n",
       "    </tr>\n",
       "    <tr>\n",
       "      <th>2</th>\n",
       "      <td>Algeria</td>\n",
       "      <td>41318142.0</td>\n",
       "      <td>2381741.0</td>\n",
       "      <td>69.7</td>\n",
       "      <td>800</td>\n",
       "      <td>Africa</td>\n",
       "      <td>DZ</td>\n",
       "      <td>Northern Africa</td>\n",
       "      <td>12.0</td>\n",
       "      <td>Alger</td>\n",
       "    </tr>\n",
       "    <tr>\n",
       "      <th>3</th>\n",
       "      <td>Andorra</td>\n",
       "      <td>76965.0</td>\n",
       "      <td>468.0</td>\n",
       "      <td>83.5</td>\n",
       "      <td>1,996</td>\n",
       "      <td>Europe</td>\n",
       "      <td>AD</td>\n",
       "      <td>Southern Europe</td>\n",
       "      <td>20.0</td>\n",
       "      <td>Andorra la Vella</td>\n",
       "    </tr>\n",
       "    <tr>\n",
       "      <th>4</th>\n",
       "      <td>Angola</td>\n",
       "      <td>29784193.0</td>\n",
       "      <td>1246700.0</td>\n",
       "      <td>38.3</td>\n",
       "      <td>1,112</td>\n",
       "      <td>Africa</td>\n",
       "      <td>AO</td>\n",
       "      <td>Central Africa</td>\n",
       "      <td>24.0</td>\n",
       "      <td>Luanda</td>\n",
       "    </tr>\n",
       "  </tbody>\n",
       "</table>\n",
       "</div>"
      ],
      "text/plain": [
       "       country  population  sq_km_area life_expectancy elevation_in_meters  \\\n",
       "0  Afghanistan  35530081.0    652090.0            45.9                None   \n",
       "1      Albania   2930187.0     28748.0            71.6                None   \n",
       "2      Algeria  41318142.0   2381741.0            69.7                 800   \n",
       "3      Andorra     76965.0       468.0            83.5               1,996   \n",
       "4       Angola  29784193.0   1246700.0            38.3               1,112   \n",
       "\n",
       "  continent abbreviation                   location   iso      capital_city  \n",
       "0      Asia           AF  Southern and Central Asia   4.0             Kabul  \n",
       "1    Europe           AL            Southern Europe   8.0            Tirana  \n",
       "2    Africa           DZ            Northern Africa  12.0             Alger  \n",
       "3    Europe           AD            Southern Europe  20.0  Andorra la Vella  \n",
       "4    Africa           AO             Central Africa  24.0            Luanda  "
      ]
     },
     "execution_count": 13,
     "metadata": {},
     "output_type": "execute_result"
    }
   ],
   "source": [
    "#check for NA and convert them to NONE\n",
    "confirmed_df.head()"
   ]
  },
  {
   "cell_type": "code",
   "execution_count": 82,
   "metadata": {},
   "outputs": [
    {
     "data": {
      "text/html": [
       "<div>\n",
       "<style scoped>\n",
       "    .dataframe tbody tr th:only-of-type {\n",
       "        vertical-align: middle;\n",
       "    }\n",
       "\n",
       "    .dataframe tbody tr th {\n",
       "        vertical-align: top;\n",
       "    }\n",
       "\n",
       "    .dataframe thead th {\n",
       "        text-align: right;\n",
       "    }\n",
       "</style>\n",
       "<table border=\"1\" class=\"dataframe\">\n",
       "  <thead>\n",
       "    <tr style=\"text-align: right;\">\n",
       "      <th></th>\n",
       "      <th>country</th>\n",
       "      <th>population</th>\n",
       "      <th>sq_km_area</th>\n",
       "      <th>life_expectancy</th>\n",
       "      <th>elevation_in_meters</th>\n",
       "      <th>continent</th>\n",
       "      <th>abbreviation</th>\n",
       "      <th>location</th>\n",
       "      <th>iso</th>\n",
       "      <th>capital_city</th>\n",
       "    </tr>\n",
       "  </thead>\n",
       "  <tbody>\n",
       "    <tr>\n",
       "      <th>30</th>\n",
       "      <td>Cambodia</td>\n",
       "      <td>1.600537e+07</td>\n",
       "      <td>181035.0</td>\n",
       "      <td>56.5</td>\n",
       "      <td>126</td>\n",
       "      <td>Asia</td>\n",
       "      <td>KH</td>\n",
       "      <td>Southeast Asia</td>\n",
       "      <td>116.0</td>\n",
       "      <td>Phnom Penh</td>\n",
       "    </tr>\n",
       "    <tr>\n",
       "      <th>31</th>\n",
       "      <td>Cameroon</td>\n",
       "      <td>2.405373e+07</td>\n",
       "      <td>475442.0</td>\n",
       "      <td>54.8</td>\n",
       "      <td>667</td>\n",
       "      <td>Africa</td>\n",
       "      <td>CM</td>\n",
       "      <td>Central Africa</td>\n",
       "      <td>120.0</td>\n",
       "      <td>Yaound</td>\n",
       "    </tr>\n",
       "    <tr>\n",
       "      <th>32</th>\n",
       "      <td>Canada</td>\n",
       "      <td>3.662420e+07</td>\n",
       "      <td>9970610.0</td>\n",
       "      <td>79.4</td>\n",
       "      <td>487</td>\n",
       "      <td>North America</td>\n",
       "      <td>CA</td>\n",
       "      <td>North America</td>\n",
       "      <td>124.0</td>\n",
       "      <td>Ottawa</td>\n",
       "    </tr>\n",
       "    <tr>\n",
       "      <th>33</th>\n",
       "      <td>Central African Republic</td>\n",
       "      <td>4.659080e+06</td>\n",
       "      <td>622984.0</td>\n",
       "      <td>44</td>\n",
       "      <td>635</td>\n",
       "      <td>Africa</td>\n",
       "      <td>CF</td>\n",
       "      <td>Central Africa</td>\n",
       "      <td>140.0</td>\n",
       "      <td>Bangui</td>\n",
       "    </tr>\n",
       "    <tr>\n",
       "      <th>34</th>\n",
       "      <td>Chad</td>\n",
       "      <td>1.489999e+07</td>\n",
       "      <td>1284000.0</td>\n",
       "      <td>50.5</td>\n",
       "      <td>543</td>\n",
       "      <td>Africa</td>\n",
       "      <td>TD</td>\n",
       "      <td>Central Africa</td>\n",
       "      <td>148.0</td>\n",
       "      <td>N'Djam</td>\n",
       "    </tr>\n",
       "    <tr>\n",
       "      <th>35</th>\n",
       "      <td>Chile</td>\n",
       "      <td>1.805473e+07</td>\n",
       "      <td>756626.0</td>\n",
       "      <td>75.7</td>\n",
       "      <td>1,871</td>\n",
       "      <td>South America</td>\n",
       "      <td>CL</td>\n",
       "      <td>South America</td>\n",
       "      <td>152.0</td>\n",
       "      <td>Santiago de Chile</td>\n",
       "    </tr>\n",
       "    <tr>\n",
       "      <th>36</th>\n",
       "      <td>China</td>\n",
       "      <td>1.409517e+09</td>\n",
       "      <td>9572900.0</td>\n",
       "      <td>71.4</td>\n",
       "      <td>1,840</td>\n",
       "      <td>Asia</td>\n",
       "      <td>CN</td>\n",
       "      <td>Eastern Asia</td>\n",
       "      <td>156.0</td>\n",
       "      <td>Peking</td>\n",
       "    </tr>\n",
       "    <tr>\n",
       "      <th>37</th>\n",
       "      <td>Colombia</td>\n",
       "      <td>4.906562e+07</td>\n",
       "      <td>1138914.0</td>\n",
       "      <td>70.3</td>\n",
       "      <td>593</td>\n",
       "      <td>South America</td>\n",
       "      <td>CO</td>\n",
       "      <td>South America</td>\n",
       "      <td>170.0</td>\n",
       "      <td>Santaf</td>\n",
       "    </tr>\n",
       "    <tr>\n",
       "      <th>38</th>\n",
       "      <td>Comoros</td>\n",
       "      <td>8.139120e+05</td>\n",
       "      <td>1862.0</td>\n",
       "      <td>60</td>\n",
       "      <td>None</td>\n",
       "      <td>Africa</td>\n",
       "      <td>KM</td>\n",
       "      <td>Eastern Africa</td>\n",
       "      <td>174.0</td>\n",
       "      <td>Moroni</td>\n",
       "    </tr>\n",
       "    <tr>\n",
       "      <th>39</th>\n",
       "      <td>Congo (Brazzaville)</td>\n",
       "      <td>NaN</td>\n",
       "      <td>NaN</td>\n",
       "      <td>None</td>\n",
       "      <td>None</td>\n",
       "      <td>None</td>\n",
       "      <td>None</td>\n",
       "      <td>None</td>\n",
       "      <td>NaN</td>\n",
       "      <td>None</td>\n",
       "    </tr>\n",
       "    <tr>\n",
       "      <th>40</th>\n",
       "      <td>Congo (Kinshasa)</td>\n",
       "      <td>NaN</td>\n",
       "      <td>NaN</td>\n",
       "      <td>None</td>\n",
       "      <td>None</td>\n",
       "      <td>None</td>\n",
       "      <td>None</td>\n",
       "      <td>None</td>\n",
       "      <td>NaN</td>\n",
       "      <td>None</td>\n",
       "    </tr>\n",
       "    <tr>\n",
       "      <th>41</th>\n",
       "      <td>Costa Rica</td>\n",
       "      <td>4.905769e+06</td>\n",
       "      <td>51100.0</td>\n",
       "      <td>75.8</td>\n",
       "      <td>746</td>\n",
       "      <td>North America</td>\n",
       "      <td>CR</td>\n",
       "      <td>Central America</td>\n",
       "      <td>188.0</td>\n",
       "      <td>San Jos</td>\n",
       "    </tr>\n",
       "    <tr>\n",
       "      <th>42</th>\n",
       "      <td>Cote d'Ivoire</td>\n",
       "      <td>2.429475e+07</td>\n",
       "      <td>322463.0</td>\n",
       "      <td>45.2</td>\n",
       "      <td>250</td>\n",
       "      <td>Africa</td>\n",
       "      <td>CI</td>\n",
       "      <td>Western Africa</td>\n",
       "      <td>384.0</td>\n",
       "      <td>Yamoussoukro</td>\n",
       "    </tr>\n",
       "    <tr>\n",
       "      <th>43</th>\n",
       "      <td>Croatia</td>\n",
       "      <td>4.189353e+06</td>\n",
       "      <td>56538.0</td>\n",
       "      <td>73.7</td>\n",
       "      <td>331</td>\n",
       "      <td>Europe</td>\n",
       "      <td>HR</td>\n",
       "      <td>Southern Europe</td>\n",
       "      <td>191.0</td>\n",
       "      <td>Zagreb</td>\n",
       "    </tr>\n",
       "    <tr>\n",
       "      <th>44</th>\n",
       "      <td>Cuba</td>\n",
       "      <td>1.148464e+07</td>\n",
       "      <td>110861.0</td>\n",
       "      <td>76.2</td>\n",
       "      <td>108</td>\n",
       "      <td>North America</td>\n",
       "      <td>CU</td>\n",
       "      <td>Caribbean</td>\n",
       "      <td>192.0</td>\n",
       "      <td>La Habana</td>\n",
       "    </tr>\n",
       "    <tr>\n",
       "      <th>45</th>\n",
       "      <td>Cyprus</td>\n",
       "      <td>1.179551e+06</td>\n",
       "      <td>9251.0</td>\n",
       "      <td>76.7</td>\n",
       "      <td>91</td>\n",
       "      <td>Asia</td>\n",
       "      <td>CY</td>\n",
       "      <td>Middle East</td>\n",
       "      <td>196.0</td>\n",
       "      <td>Nicosia</td>\n",
       "    </tr>\n",
       "    <tr>\n",
       "      <th>46</th>\n",
       "      <td>Czechia</td>\n",
       "      <td>1.061830e+07</td>\n",
       "      <td>78866.0</td>\n",
       "      <td>74.5</td>\n",
       "      <td>433</td>\n",
       "      <td>Europe</td>\n",
       "      <td>CZ</td>\n",
       "      <td>Eastern Europe</td>\n",
       "      <td>203.0</td>\n",
       "      <td>Praha</td>\n",
       "    </tr>\n",
       "    <tr>\n",
       "      <th>47</th>\n",
       "      <td>Denmark</td>\n",
       "      <td>5.733551e+06</td>\n",
       "      <td>43094.0</td>\n",
       "      <td>76.5</td>\n",
       "      <td>34</td>\n",
       "      <td>Europe</td>\n",
       "      <td>DK</td>\n",
       "      <td>Nordic Countries</td>\n",
       "      <td>208.0</td>\n",
       "      <td>Copenhagen</td>\n",
       "    </tr>\n",
       "    <tr>\n",
       "      <th>48</th>\n",
       "      <td>Diamond Princess</td>\n",
       "      <td>NaN</td>\n",
       "      <td>NaN</td>\n",
       "      <td>None</td>\n",
       "      <td>None</td>\n",
       "      <td>None</td>\n",
       "      <td>None</td>\n",
       "      <td>None</td>\n",
       "      <td>NaN</td>\n",
       "      <td>None</td>\n",
       "    </tr>\n",
       "    <tr>\n",
       "      <th>49</th>\n",
       "      <td>Djibouti</td>\n",
       "      <td>9.569850e+05</td>\n",
       "      <td>23200.0</td>\n",
       "      <td>50.8</td>\n",
       "      <td>430</td>\n",
       "      <td>Africa</td>\n",
       "      <td>DJ</td>\n",
       "      <td>Eastern Africa</td>\n",
       "      <td>262.0</td>\n",
       "      <td>Djibouti</td>\n",
       "    </tr>\n",
       "  </tbody>\n",
       "</table>\n",
       "</div>"
      ],
      "text/plain": [
       "                     country    population  sq_km_area life_expectancy  \\\n",
       "30                  Cambodia  1.600537e+07    181035.0            56.5   \n",
       "31                  Cameroon  2.405373e+07    475442.0            54.8   \n",
       "32                    Canada  3.662420e+07   9970610.0            79.4   \n",
       "33  Central African Republic  4.659080e+06    622984.0              44   \n",
       "34                      Chad  1.489999e+07   1284000.0            50.5   \n",
       "35                     Chile  1.805473e+07    756626.0            75.7   \n",
       "36                     China  1.409517e+09   9572900.0            71.4   \n",
       "37                  Colombia  4.906562e+07   1138914.0            70.3   \n",
       "38                   Comoros  8.139120e+05      1862.0              60   \n",
       "39       Congo (Brazzaville)           NaN         NaN            None   \n",
       "40          Congo (Kinshasa)           NaN         NaN            None   \n",
       "41                Costa Rica  4.905769e+06     51100.0            75.8   \n",
       "42             Cote d'Ivoire  2.429475e+07    322463.0            45.2   \n",
       "43                   Croatia  4.189353e+06     56538.0            73.7   \n",
       "44                      Cuba  1.148464e+07    110861.0            76.2   \n",
       "45                    Cyprus  1.179551e+06      9251.0            76.7   \n",
       "46                   Czechia  1.061830e+07     78866.0            74.5   \n",
       "47                   Denmark  5.733551e+06     43094.0            76.5   \n",
       "48          Diamond Princess           NaN         NaN            None   \n",
       "49                  Djibouti  9.569850e+05     23200.0            50.8   \n",
       "\n",
       "   elevation_in_meters      continent abbreviation          location    iso  \\\n",
       "30                 126           Asia           KH    Southeast Asia  116.0   \n",
       "31                 667         Africa           CM    Central Africa  120.0   \n",
       "32                 487  North America           CA     North America  124.0   \n",
       "33                 635         Africa           CF    Central Africa  140.0   \n",
       "34                 543         Africa           TD    Central Africa  148.0   \n",
       "35               1,871  South America           CL     South America  152.0   \n",
       "36               1,840           Asia           CN      Eastern Asia  156.0   \n",
       "37                 593  South America           CO     South America  170.0   \n",
       "38                None         Africa           KM    Eastern Africa  174.0   \n",
       "39                None           None         None              None    NaN   \n",
       "40                None           None         None              None    NaN   \n",
       "41                 746  North America           CR   Central America  188.0   \n",
       "42                 250         Africa           CI    Western Africa  384.0   \n",
       "43                 331         Europe           HR   Southern Europe  191.0   \n",
       "44                 108  North America           CU         Caribbean  192.0   \n",
       "45                  91           Asia           CY       Middle East  196.0   \n",
       "46                 433         Europe           CZ    Eastern Europe  203.0   \n",
       "47                  34         Europe           DK  Nordic Countries  208.0   \n",
       "48                None           None         None              None    NaN   \n",
       "49                 430         Africa           DJ    Eastern Africa  262.0   \n",
       "\n",
       "         capital_city  \n",
       "30         Phnom Penh  \n",
       "31             Yaound  \n",
       "32             Ottawa  \n",
       "33             Bangui  \n",
       "34             N'Djam  \n",
       "35  Santiago de Chile  \n",
       "36             Peking  \n",
       "37             Santaf  \n",
       "38             Moroni  \n",
       "39               None  \n",
       "40               None  \n",
       "41            San Jos  \n",
       "42       Yamoussoukro  \n",
       "43             Zagreb  \n",
       "44          La Habana  \n",
       "45            Nicosia  \n",
       "46              Praha  \n",
       "47         Copenhagen  \n",
       "48               None  \n",
       "49           Djibouti  "
      ]
     },
     "execution_count": 82,
     "metadata": {},
     "output_type": "execute_result"
    }
   ],
   "source": [
    "#notice the special characters in country - we need to remove it before doing the ETL\n",
    "confirmed_df.iloc[30:50]"
   ]
  },
  {
   "cell_type": "code",
   "execution_count": 83,
   "metadata": {},
   "outputs": [],
   "source": [
    "confirmed_df[\"country\"] = confirmed_df[\"country\"].apply(lambda x: re.sub('[^A-Za-z0-9]+', ' ', x))"
   ]
  },
  {
   "cell_type": "code",
   "execution_count": 84,
   "metadata": {},
   "outputs": [
    {
     "data": {
      "text/html": [
       "<div>\n",
       "<style scoped>\n",
       "    .dataframe tbody tr th:only-of-type {\n",
       "        vertical-align: middle;\n",
       "    }\n",
       "\n",
       "    .dataframe tbody tr th {\n",
       "        vertical-align: top;\n",
       "    }\n",
       "\n",
       "    .dataframe thead th {\n",
       "        text-align: right;\n",
       "    }\n",
       "</style>\n",
       "<table border=\"1\" class=\"dataframe\">\n",
       "  <thead>\n",
       "    <tr style=\"text-align: right;\">\n",
       "      <th></th>\n",
       "      <th>country</th>\n",
       "      <th>population</th>\n",
       "      <th>sq_km_area</th>\n",
       "      <th>life_expectancy</th>\n",
       "      <th>elevation_in_meters</th>\n",
       "      <th>continent</th>\n",
       "      <th>abbreviation</th>\n",
       "      <th>location</th>\n",
       "      <th>iso</th>\n",
       "      <th>capital_city</th>\n",
       "    </tr>\n",
       "  </thead>\n",
       "  <tbody>\n",
       "    <tr>\n",
       "      <th>30</th>\n",
       "      <td>Cambodia</td>\n",
       "      <td>1.600537e+07</td>\n",
       "      <td>181035.0</td>\n",
       "      <td>56.5</td>\n",
       "      <td>126</td>\n",
       "      <td>Asia</td>\n",
       "      <td>KH</td>\n",
       "      <td>Southeast Asia</td>\n",
       "      <td>116.0</td>\n",
       "      <td>Phnom Penh</td>\n",
       "    </tr>\n",
       "    <tr>\n",
       "      <th>31</th>\n",
       "      <td>Cameroon</td>\n",
       "      <td>2.405373e+07</td>\n",
       "      <td>475442.0</td>\n",
       "      <td>54.8</td>\n",
       "      <td>667</td>\n",
       "      <td>Africa</td>\n",
       "      <td>CM</td>\n",
       "      <td>Central Africa</td>\n",
       "      <td>120.0</td>\n",
       "      <td>Yaound</td>\n",
       "    </tr>\n",
       "    <tr>\n",
       "      <th>32</th>\n",
       "      <td>Canada</td>\n",
       "      <td>3.662420e+07</td>\n",
       "      <td>9970610.0</td>\n",
       "      <td>79.4</td>\n",
       "      <td>487</td>\n",
       "      <td>North America</td>\n",
       "      <td>CA</td>\n",
       "      <td>North America</td>\n",
       "      <td>124.0</td>\n",
       "      <td>Ottawa</td>\n",
       "    </tr>\n",
       "    <tr>\n",
       "      <th>33</th>\n",
       "      <td>Central African Republic</td>\n",
       "      <td>4.659080e+06</td>\n",
       "      <td>622984.0</td>\n",
       "      <td>44</td>\n",
       "      <td>635</td>\n",
       "      <td>Africa</td>\n",
       "      <td>CF</td>\n",
       "      <td>Central Africa</td>\n",
       "      <td>140.0</td>\n",
       "      <td>Bangui</td>\n",
       "    </tr>\n",
       "    <tr>\n",
       "      <th>34</th>\n",
       "      <td>Chad</td>\n",
       "      <td>1.489999e+07</td>\n",
       "      <td>1284000.0</td>\n",
       "      <td>50.5</td>\n",
       "      <td>543</td>\n",
       "      <td>Africa</td>\n",
       "      <td>TD</td>\n",
       "      <td>Central Africa</td>\n",
       "      <td>148.0</td>\n",
       "      <td>N'Djam</td>\n",
       "    </tr>\n",
       "    <tr>\n",
       "      <th>35</th>\n",
       "      <td>Chile</td>\n",
       "      <td>1.805473e+07</td>\n",
       "      <td>756626.0</td>\n",
       "      <td>75.7</td>\n",
       "      <td>1,871</td>\n",
       "      <td>South America</td>\n",
       "      <td>CL</td>\n",
       "      <td>South America</td>\n",
       "      <td>152.0</td>\n",
       "      <td>Santiago de Chile</td>\n",
       "    </tr>\n",
       "    <tr>\n",
       "      <th>36</th>\n",
       "      <td>China</td>\n",
       "      <td>1.409517e+09</td>\n",
       "      <td>9572900.0</td>\n",
       "      <td>71.4</td>\n",
       "      <td>1,840</td>\n",
       "      <td>Asia</td>\n",
       "      <td>CN</td>\n",
       "      <td>Eastern Asia</td>\n",
       "      <td>156.0</td>\n",
       "      <td>Peking</td>\n",
       "    </tr>\n",
       "    <tr>\n",
       "      <th>37</th>\n",
       "      <td>Colombia</td>\n",
       "      <td>4.906562e+07</td>\n",
       "      <td>1138914.0</td>\n",
       "      <td>70.3</td>\n",
       "      <td>593</td>\n",
       "      <td>South America</td>\n",
       "      <td>CO</td>\n",
       "      <td>South America</td>\n",
       "      <td>170.0</td>\n",
       "      <td>Santaf</td>\n",
       "    </tr>\n",
       "    <tr>\n",
       "      <th>38</th>\n",
       "      <td>Comoros</td>\n",
       "      <td>8.139120e+05</td>\n",
       "      <td>1862.0</td>\n",
       "      <td>60</td>\n",
       "      <td>None</td>\n",
       "      <td>Africa</td>\n",
       "      <td>KM</td>\n",
       "      <td>Eastern Africa</td>\n",
       "      <td>174.0</td>\n",
       "      <td>Moroni</td>\n",
       "    </tr>\n",
       "    <tr>\n",
       "      <th>39</th>\n",
       "      <td>Congo Brazzaville</td>\n",
       "      <td>NaN</td>\n",
       "      <td>NaN</td>\n",
       "      <td>None</td>\n",
       "      <td>None</td>\n",
       "      <td>None</td>\n",
       "      <td>None</td>\n",
       "      <td>None</td>\n",
       "      <td>NaN</td>\n",
       "      <td>None</td>\n",
       "    </tr>\n",
       "    <tr>\n",
       "      <th>40</th>\n",
       "      <td>Congo Kinshasa</td>\n",
       "      <td>NaN</td>\n",
       "      <td>NaN</td>\n",
       "      <td>None</td>\n",
       "      <td>None</td>\n",
       "      <td>None</td>\n",
       "      <td>None</td>\n",
       "      <td>None</td>\n",
       "      <td>NaN</td>\n",
       "      <td>None</td>\n",
       "    </tr>\n",
       "    <tr>\n",
       "      <th>41</th>\n",
       "      <td>Costa Rica</td>\n",
       "      <td>4.905769e+06</td>\n",
       "      <td>51100.0</td>\n",
       "      <td>75.8</td>\n",
       "      <td>746</td>\n",
       "      <td>North America</td>\n",
       "      <td>CR</td>\n",
       "      <td>Central America</td>\n",
       "      <td>188.0</td>\n",
       "      <td>San Jos</td>\n",
       "    </tr>\n",
       "    <tr>\n",
       "      <th>42</th>\n",
       "      <td>Cote d Ivoire</td>\n",
       "      <td>2.429475e+07</td>\n",
       "      <td>322463.0</td>\n",
       "      <td>45.2</td>\n",
       "      <td>250</td>\n",
       "      <td>Africa</td>\n",
       "      <td>CI</td>\n",
       "      <td>Western Africa</td>\n",
       "      <td>384.0</td>\n",
       "      <td>Yamoussoukro</td>\n",
       "    </tr>\n",
       "    <tr>\n",
       "      <th>43</th>\n",
       "      <td>Croatia</td>\n",
       "      <td>4.189353e+06</td>\n",
       "      <td>56538.0</td>\n",
       "      <td>73.7</td>\n",
       "      <td>331</td>\n",
       "      <td>Europe</td>\n",
       "      <td>HR</td>\n",
       "      <td>Southern Europe</td>\n",
       "      <td>191.0</td>\n",
       "      <td>Zagreb</td>\n",
       "    </tr>\n",
       "    <tr>\n",
       "      <th>44</th>\n",
       "      <td>Cuba</td>\n",
       "      <td>1.148464e+07</td>\n",
       "      <td>110861.0</td>\n",
       "      <td>76.2</td>\n",
       "      <td>108</td>\n",
       "      <td>North America</td>\n",
       "      <td>CU</td>\n",
       "      <td>Caribbean</td>\n",
       "      <td>192.0</td>\n",
       "      <td>La Habana</td>\n",
       "    </tr>\n",
       "    <tr>\n",
       "      <th>45</th>\n",
       "      <td>Cyprus</td>\n",
       "      <td>1.179551e+06</td>\n",
       "      <td>9251.0</td>\n",
       "      <td>76.7</td>\n",
       "      <td>91</td>\n",
       "      <td>Asia</td>\n",
       "      <td>CY</td>\n",
       "      <td>Middle East</td>\n",
       "      <td>196.0</td>\n",
       "      <td>Nicosia</td>\n",
       "    </tr>\n",
       "    <tr>\n",
       "      <th>46</th>\n",
       "      <td>Czechia</td>\n",
       "      <td>1.061830e+07</td>\n",
       "      <td>78866.0</td>\n",
       "      <td>74.5</td>\n",
       "      <td>433</td>\n",
       "      <td>Europe</td>\n",
       "      <td>CZ</td>\n",
       "      <td>Eastern Europe</td>\n",
       "      <td>203.0</td>\n",
       "      <td>Praha</td>\n",
       "    </tr>\n",
       "    <tr>\n",
       "      <th>47</th>\n",
       "      <td>Denmark</td>\n",
       "      <td>5.733551e+06</td>\n",
       "      <td>43094.0</td>\n",
       "      <td>76.5</td>\n",
       "      <td>34</td>\n",
       "      <td>Europe</td>\n",
       "      <td>DK</td>\n",
       "      <td>Nordic Countries</td>\n",
       "      <td>208.0</td>\n",
       "      <td>Copenhagen</td>\n",
       "    </tr>\n",
       "    <tr>\n",
       "      <th>48</th>\n",
       "      <td>Diamond Princess</td>\n",
       "      <td>NaN</td>\n",
       "      <td>NaN</td>\n",
       "      <td>None</td>\n",
       "      <td>None</td>\n",
       "      <td>None</td>\n",
       "      <td>None</td>\n",
       "      <td>None</td>\n",
       "      <td>NaN</td>\n",
       "      <td>None</td>\n",
       "    </tr>\n",
       "    <tr>\n",
       "      <th>49</th>\n",
       "      <td>Djibouti</td>\n",
       "      <td>9.569850e+05</td>\n",
       "      <td>23200.0</td>\n",
       "      <td>50.8</td>\n",
       "      <td>430</td>\n",
       "      <td>Africa</td>\n",
       "      <td>DJ</td>\n",
       "      <td>Eastern Africa</td>\n",
       "      <td>262.0</td>\n",
       "      <td>Djibouti</td>\n",
       "    </tr>\n",
       "  </tbody>\n",
       "</table>\n",
       "</div>"
      ],
      "text/plain": [
       "                     country    population  sq_km_area life_expectancy  \\\n",
       "30                  Cambodia  1.600537e+07    181035.0            56.5   \n",
       "31                  Cameroon  2.405373e+07    475442.0            54.8   \n",
       "32                    Canada  3.662420e+07   9970610.0            79.4   \n",
       "33  Central African Republic  4.659080e+06    622984.0              44   \n",
       "34                      Chad  1.489999e+07   1284000.0            50.5   \n",
       "35                     Chile  1.805473e+07    756626.0            75.7   \n",
       "36                     China  1.409517e+09   9572900.0            71.4   \n",
       "37                  Colombia  4.906562e+07   1138914.0            70.3   \n",
       "38                   Comoros  8.139120e+05      1862.0              60   \n",
       "39        Congo Brazzaville            NaN         NaN            None   \n",
       "40           Congo Kinshasa            NaN         NaN            None   \n",
       "41                Costa Rica  4.905769e+06     51100.0            75.8   \n",
       "42             Cote d Ivoire  2.429475e+07    322463.0            45.2   \n",
       "43                   Croatia  4.189353e+06     56538.0            73.7   \n",
       "44                      Cuba  1.148464e+07    110861.0            76.2   \n",
       "45                    Cyprus  1.179551e+06      9251.0            76.7   \n",
       "46                   Czechia  1.061830e+07     78866.0            74.5   \n",
       "47                   Denmark  5.733551e+06     43094.0            76.5   \n",
       "48          Diamond Princess           NaN         NaN            None   \n",
       "49                  Djibouti  9.569850e+05     23200.0            50.8   \n",
       "\n",
       "   elevation_in_meters      continent abbreviation          location    iso  \\\n",
       "30                 126           Asia           KH    Southeast Asia  116.0   \n",
       "31                 667         Africa           CM    Central Africa  120.0   \n",
       "32                 487  North America           CA     North America  124.0   \n",
       "33                 635         Africa           CF    Central Africa  140.0   \n",
       "34                 543         Africa           TD    Central Africa  148.0   \n",
       "35               1,871  South America           CL     South America  152.0   \n",
       "36               1,840           Asia           CN      Eastern Asia  156.0   \n",
       "37                 593  South America           CO     South America  170.0   \n",
       "38                None         Africa           KM    Eastern Africa  174.0   \n",
       "39                None           None         None              None    NaN   \n",
       "40                None           None         None              None    NaN   \n",
       "41                 746  North America           CR   Central America  188.0   \n",
       "42                 250         Africa           CI    Western Africa  384.0   \n",
       "43                 331         Europe           HR   Southern Europe  191.0   \n",
       "44                 108  North America           CU         Caribbean  192.0   \n",
       "45                  91           Asia           CY       Middle East  196.0   \n",
       "46                 433         Europe           CZ    Eastern Europe  203.0   \n",
       "47                  34         Europe           DK  Nordic Countries  208.0   \n",
       "48                None           None         None              None    NaN   \n",
       "49                 430         Africa           DJ    Eastern Africa  262.0   \n",
       "\n",
       "         capital_city  \n",
       "30         Phnom Penh  \n",
       "31             Yaound  \n",
       "32             Ottawa  \n",
       "33             Bangui  \n",
       "34             N'Djam  \n",
       "35  Santiago de Chile  \n",
       "36             Peking  \n",
       "37             Santaf  \n",
       "38             Moroni  \n",
       "39               None  \n",
       "40               None  \n",
       "41            San Jos  \n",
       "42       Yamoussoukro  \n",
       "43             Zagreb  \n",
       "44          La Habana  \n",
       "45            Nicosia  \n",
       "46              Praha  \n",
       "47         Copenhagen  \n",
       "48               None  \n",
       "49           Djibouti  "
      ]
     },
     "execution_count": 84,
     "metadata": {},
     "output_type": "execute_result"
    }
   ],
   "source": [
    "#special characters are removed\n",
    "confirmed_df.iloc[30:50]"
   ]
  },
  {
   "cell_type": "code",
   "execution_count": 16,
   "metadata": {},
   "outputs": [],
   "source": [
    "with open('covid_19_vaccines.json','r') as f:\n",
    "    data_vac = json.loads(f.read())\n",
    "data_keys_vac = data_vac.keys()"
   ]
  },
  {
   "cell_type": "code",
   "execution_count": 17,
   "metadata": {},
   "outputs": [],
   "source": [
    "def create_dataframe_vac(data_keys, data_df):\n",
    "    data_df_list_of_dict = []\n",
    "    for i in data_keys:\n",
    "        temp_dict = {'country': None,'administered': None, 'people_vaccinated': None, 'people_partially_vaccinated': None, 'updated': None}\n",
    "        temp_dict['country'] = str(i)\n",
    "        if \"administered\" in data_df[i][\"All\"]:\n",
    "            temp_dict[\"administered\"] = data_df[i]['All'][\"administered\"]\n",
    "        if \"people_vaccinated\" in data_df[i][\"All\"]:\n",
    "            temp_dict[\"people_vaccinated\"] = data_df[i]['All'][\"people_vaccinated\"]\n",
    "        if \"people_partially_vaccinated\" in data_df[i][\"All\"]:\n",
    "            temp_dict[\"people_partially_vaccinated\"] = data_df[i]['All'][\"people_partially_vaccinated\"]\n",
    "        if \"updated\" in data_df[i][\"All\"]:\n",
    "            temp_dict[\"updated\"] = data_df[i]['All'][\"updated\"]\n",
    "        data_df_list_of_dict.append(temp_dict)\n",
    "    return data_df_list_of_dict"
   ]
  },
  {
   "cell_type": "code",
   "execution_count": 18,
   "metadata": {},
   "outputs": [],
   "source": [
    "new_data_vac = create_dataframe_vac(data_keys_vac, data_vac)"
   ]
  },
  {
   "cell_type": "code",
   "execution_count": 19,
   "metadata": {},
   "outputs": [],
   "source": [
    "vaccined_df = pd.DataFrame(data = new_data_vac, columns = [\"country\", \"administered\", \"people_vaccinated\", \"people_partially_vaccinated\", \"updated\"])"
   ]
  },
  {
   "cell_type": "code",
   "execution_count": 20,
   "metadata": {},
   "outputs": [
    {
     "data": {
      "text/html": [
       "<div>\n",
       "<style scoped>\n",
       "    .dataframe tbody tr th:only-of-type {\n",
       "        vertical-align: middle;\n",
       "    }\n",
       "\n",
       "    .dataframe tbody tr th {\n",
       "        vertical-align: top;\n",
       "    }\n",
       "\n",
       "    .dataframe thead th {\n",
       "        text-align: right;\n",
       "    }\n",
       "</style>\n",
       "<table border=\"1\" class=\"dataframe\">\n",
       "  <thead>\n",
       "    <tr style=\"text-align: right;\">\n",
       "      <th></th>\n",
       "      <th>country</th>\n",
       "      <th>administered</th>\n",
       "      <th>people_vaccinated</th>\n",
       "      <th>people_partially_vaccinated</th>\n",
       "      <th>updated</th>\n",
       "    </tr>\n",
       "  </thead>\n",
       "  <tbody>\n",
       "    <tr>\n",
       "      <th>0</th>\n",
       "      <td>Afghanistan</td>\n",
       "      <td>641295</td>\n",
       "      <td>158343</td>\n",
       "      <td>482952</td>\n",
       "      <td>2021/06/10 00:00:00+00</td>\n",
       "    </tr>\n",
       "    <tr>\n",
       "      <th>1</th>\n",
       "      <td>Albania</td>\n",
       "      <td>803682</td>\n",
       "      <td>310336</td>\n",
       "      <td>493346</td>\n",
       "      <td>2021/06/10 00:00:00+00</td>\n",
       "    </tr>\n",
       "    <tr>\n",
       "      <th>2</th>\n",
       "      <td>Algeria</td>\n",
       "      <td>2500000</td>\n",
       "      <td>0</td>\n",
       "      <td>2500000</td>\n",
       "      <td>2021/06/10 00:00:00+00</td>\n",
       "    </tr>\n",
       "    <tr>\n",
       "      <th>3</th>\n",
       "      <td>Andorra</td>\n",
       "      <td>35926</td>\n",
       "      <td>8303</td>\n",
       "      <td>27613</td>\n",
       "      <td>2021/06/10 00:00:00+00</td>\n",
       "    </tr>\n",
       "    <tr>\n",
       "      <th>4</th>\n",
       "      <td>Angola</td>\n",
       "      <td>1115919</td>\n",
       "      <td>375630</td>\n",
       "      <td>740289</td>\n",
       "      <td>2021/06/10 00:00:00+00</td>\n",
       "    </tr>\n",
       "  </tbody>\n",
       "</table>\n",
       "</div>"
      ],
      "text/plain": [
       "       country  administered  people_vaccinated  people_partially_vaccinated  \\\n",
       "0  Afghanistan        641295             158343                       482952   \n",
       "1      Albania        803682             310336                       493346   \n",
       "2      Algeria       2500000                  0                      2500000   \n",
       "3      Andorra         35926               8303                        27613   \n",
       "4       Angola       1115919             375630                       740289   \n",
       "\n",
       "                  updated  \n",
       "0  2021/06/10 00:00:00+00  \n",
       "1  2021/06/10 00:00:00+00  \n",
       "2  2021/06/10 00:00:00+00  \n",
       "3  2021/06/10 00:00:00+00  \n",
       "4  2021/06/10 00:00:00+00  "
      ]
     },
     "execution_count": 20,
     "metadata": {},
     "output_type": "execute_result"
    }
   ],
   "source": [
    "vaccined_df.head()"
   ]
  },
  {
   "cell_type": "code",
   "execution_count": 119,
   "metadata": {},
   "outputs": [
    {
     "data": {
      "text/plain": [
       "165"
      ]
     },
     "execution_count": 119,
     "metadata": {},
     "output_type": "execute_result"
    }
   ],
   "source": [
    "len(vaccined_df[\"country\"])"
   ]
  },
  {
   "cell_type": "code",
   "execution_count": 104,
   "metadata": {},
   "outputs": [],
   "source": [
    "#replacing special characters in vaccined_df country field for ETL\n",
    "vaccined_df[\"country\"] = vaccined_df[\"country\"].apply(lambda x: re.sub('[^A-Za-z0-9]+', ' ', x))"
   ]
  },
  {
   "cell_type": "code",
   "execution_count": 21,
   "metadata": {},
   "outputs": [
    {
     "data": {
      "text/html": [
       "<div>\n",
       "<style scoped>\n",
       "    .dataframe tbody tr th:only-of-type {\n",
       "        vertical-align: middle;\n",
       "    }\n",
       "\n",
       "    .dataframe tbody tr th {\n",
       "        vertical-align: top;\n",
       "    }\n",
       "\n",
       "    .dataframe thead th {\n",
       "        text-align: right;\n",
       "    }\n",
       "</style>\n",
       "<table border=\"1\" class=\"dataframe\">\n",
       "  <thead>\n",
       "    <tr style=\"text-align: right;\">\n",
       "      <th></th>\n",
       "      <th>country</th>\n",
       "      <th>administered</th>\n",
       "      <th>people_vaccinated</th>\n",
       "      <th>people_partially_vaccinated</th>\n",
       "      <th>updated</th>\n",
       "    </tr>\n",
       "  </thead>\n",
       "  <tbody>\n",
       "    <tr>\n",
       "      <th>164</th>\n",
       "      <td>Global</td>\n",
       "      <td>5227261824</td>\n",
       "      <td>471380933</td>\n",
       "      <td>925965940</td>\n",
       "      <td>None</td>\n",
       "    </tr>\n",
       "  </tbody>\n",
       "</table>\n",
       "</div>"
      ],
      "text/plain": [
       "    country  administered  people_vaccinated  people_partially_vaccinated  \\\n",
       "164  Global    5227261824          471380933                    925965940   \n",
       "\n",
       "    updated  \n",
       "164    None  "
      ]
     },
     "execution_count": 21,
     "metadata": {},
     "output_type": "execute_result"
    }
   ],
   "source": [
    "vaccined_df.loc[vaccined_df['updated'].isnull()]"
   ]
  },
  {
   "cell_type": "code",
   "execution_count": 22,
   "metadata": {},
   "outputs": [],
   "source": [
    " def create_dataframe_dates(data_keys, data_df):\n",
    "    data_df_list_of_list = []\n",
    "    for i in data_keys:\n",
    "        date_keys = data_df[i][\"All\"][\"dates\"].keys()\n",
    "        for j in date_keys:\n",
    "            date_list = []\n",
    "            date_list.append(i)\n",
    "            date_list.append(j)\n",
    "            date_list.append(data_df[i][\"All\"][\"dates\"][j])\n",
    "            data_df_list_of_list.append(date_list)\n",
    "    return data_df_list_of_list"
   ]
  },
  {
   "cell_type": "code",
   "execution_count": 23,
   "metadata": {},
   "outputs": [],
   "source": [
    "dates_df_list = create_dataframe_dates(data_keys, data)"
   ]
  },
  {
   "cell_type": "code",
   "execution_count": 24,
   "metadata": {},
   "outputs": [],
   "source": [
    "dates_df = pd.DataFrame(data = dates_df_list, columns = [\"country\", \"dates\", \"confirmed_cases\"])"
   ]
  },
  {
   "cell_type": "code",
   "execution_count": 168,
   "metadata": {},
   "outputs": [],
   "source": [
    "#removing special characters from country column in dates_df before ETL\n",
    "dates_df[\"country\"] = dates_df[\"country\"].apply(lambda x: re.sub('[^A-Za-z0-9]+', ' ', x))"
   ]
  },
  {
   "cell_type": "code",
   "execution_count": 26,
   "metadata": {},
   "outputs": [],
   "source": [
    "con = psycopg2.connect(\"user=postgres password='@Jgun220'\");\n",
    "con.set_session(autocommit=True)"
   ]
  },
  {
   "cell_type": "code",
   "execution_count": 27,
   "metadata": {},
   "outputs": [],
   "source": [
    "cursor = con.cursor();"
   ]
  },
  {
   "cell_type": "code",
   "execution_count": null,
   "metadata": {},
   "outputs": [],
   "source": [
    "name_Database   = \"Jagan\";\n",
    "sqlCreateDatabase = \"create database \"+name_Database+\";\"\n",
    "cursor.execute(sqlCreateDatabase);"
   ]
  },
  {
   "cell_type": "code",
   "execution_count": 28,
   "metadata": {},
   "outputs": [],
   "source": [
    "con.close()    "
   ]
  },
  {
   "cell_type": "code",
   "execution_count": 29,
   "metadata": {},
   "outputs": [],
   "source": [
    "con = psycopg2.connect(\"host=127.0.0.1 dbname=jagan user=postgres password='@Jgun220'\");\n",
    "con.set_session(autocommit=True)"
   ]
  },
  {
   "cell_type": "code",
   "execution_count": 30,
   "metadata": {},
   "outputs": [],
   "source": [
    "cursor = con.cursor()"
   ]
  },
  {
   "cell_type": "code",
   "execution_count": 162,
   "metadata": {},
   "outputs": [],
   "source": [
    "country_table_create = (\"\"\"CREATE TABLE IF NOT EXISTS country_info (country_id int PRIMARY KEY, country varchar, population numeric null, sq_km_area numeric null, life_expectancy numeric null, elevation_in_meters varchar null,\n",
    "continent char(100) null, abbreviation char(2) null, location char(100) null, iso numeric null, capital_city char(50) null);\"\"\")"
   ]
  },
  {
   "cell_type": "code",
   "execution_count": 163,
   "metadata": {},
   "outputs": [],
   "source": [
    "vaccine_table_create = (\"\"\"CREATE TABLE IF NOT EXISTS vaccined_info (vaccine_id int PRIMARY KEY , country_id int, administered bigint null, people_vaccinated int null, people_partially_vaccinated int null, updated timestamp null, \n",
    "CONSTRAINT fk_country FOREIGN KEY(country_id) REFERENCES country_info(country_id));\"\"\")"
   ]
  },
  {
   "cell_type": "code",
   "execution_count": 164,
   "metadata": {},
   "outputs": [],
   "source": [
    "confirmed_cases_table_create = (\"\"\"CREATE TABLE IF NOT EXISTS confirmed_cases (case_id int PRIMARY KEY, country_id int, date date null, confirmed_cases int null, CONSTRAINT fk_confirm_country\n",
    "FOREIGN KEY(country_id) REFERENCES country_info(country_id));\"\"\")"
   ]
  },
  {
   "cell_type": "code",
   "execution_count": 165,
   "metadata": {},
   "outputs": [],
   "source": [
    "cursor.execute(country_table_create)"
   ]
  },
  {
   "cell_type": "code",
   "execution_count": 166,
   "metadata": {},
   "outputs": [],
   "source": [
    "cursor.execute(vaccine_table_create)"
   ]
  },
  {
   "cell_type": "code",
   "execution_count": 167,
   "metadata": {},
   "outputs": [],
   "source": [
    "cursor.execute(confirmed_cases_table_create)"
   ]
  },
  {
   "cell_type": "code",
   "execution_count": 37,
   "metadata": {},
   "outputs": [],
   "source": [
    "country_data = confirmed_df.values[0].tolist()"
   ]
  },
  {
   "cell_type": "code",
   "execution_count": 149,
   "metadata": {},
   "outputs": [],
   "source": [
    "#songplay_table_insert = (\"INSERT INTO songplays (songplay_id, start_time, user_id, level, song_id, artist_id, session_id, location, user_agent) VALUES (%s,%s,%s,%s,%s,%s,%s,%s,%s)\")\n",
    "country_table_insert = (\"\"\"INSERT INTO country_info (country_id, country, population, sq_km_area, life_expectancy, elevation_in_meters,\n",
    "continent, abbreviation, location, iso, capital_city) VALUES (%s,%s,%s,%s,%s,%s,%s,%s,%s,%s, %s) \"\"\")"
   ]
  },
  {
   "cell_type": "code",
   "execution_count": 150,
   "metadata": {},
   "outputs": [],
   "source": [
    "vaccine_table_insert = (\"\"\"INSERT INTO vaccined_info (vaccine_id, country_id, administered, people_vaccinated, people_partially_vaccinated, updated) VALUES (%s,%s,%s,%s,%s,%s) \"\"\")"
   ]
  },
  {
   "cell_type": "code",
   "execution_count": 151,
   "metadata": {},
   "outputs": [],
   "source": [
    "vaccine_country_select = (\"\"\"select country_id from country_info where country_info.country = '{0}'\"\"\") "
   ]
  },
  {
   "cell_type": "code",
   "execution_count": 152,
   "metadata": {},
   "outputs": [],
   "source": [
    "confirmed_table_insert = (\"\"\"INSERT INTO confirmed_cases (case_id, country_id, date, confirmed_cases) VALUES (%s,%s,%s,%s)\"\"\")"
   ]
  },
  {
   "cell_type": "code",
   "execution_count": 153,
   "metadata": {},
   "outputs": [],
   "source": [
    "dates_country_select = (\"\"\"select country_id from country_info where country_info.country = '{0}'\"\"\")"
   ]
  },
  {
   "cell_type": "code",
   "execution_count": 133,
   "metadata": {},
   "outputs": [
    {
     "data": {
      "text/html": [
       "<div>\n",
       "<style scoped>\n",
       "    .dataframe tbody tr th:only-of-type {\n",
       "        vertical-align: middle;\n",
       "    }\n",
       "\n",
       "    .dataframe tbody tr th {\n",
       "        vertical-align: top;\n",
       "    }\n",
       "\n",
       "    .dataframe thead th {\n",
       "        text-align: right;\n",
       "    }\n",
       "</style>\n",
       "<table border=\"1\" class=\"dataframe\">\n",
       "  <thead>\n",
       "    <tr style=\"text-align: right;\">\n",
       "      <th></th>\n",
       "      <th>country</th>\n",
       "      <th>dates</th>\n",
       "      <th>confirmed_cases</th>\n",
       "    </tr>\n",
       "  </thead>\n",
       "  <tbody>\n",
       "    <tr>\n",
       "      <th>0</th>\n",
       "      <td>Afghanistan</td>\n",
       "      <td>2021-06-09</td>\n",
       "      <td>84050</td>\n",
       "    </tr>\n",
       "    <tr>\n",
       "      <th>1</th>\n",
       "      <td>Afghanistan</td>\n",
       "      <td>2021-06-08</td>\n",
       "      <td>82326</td>\n",
       "    </tr>\n",
       "    <tr>\n",
       "      <th>2</th>\n",
       "      <td>Afghanistan</td>\n",
       "      <td>2021-06-07</td>\n",
       "      <td>80841</td>\n",
       "    </tr>\n",
       "    <tr>\n",
       "      <th>3</th>\n",
       "      <td>Afghanistan</td>\n",
       "      <td>2021-06-06</td>\n",
       "      <td>79224</td>\n",
       "    </tr>\n",
       "    <tr>\n",
       "      <th>4</th>\n",
       "      <td>Afghanistan</td>\n",
       "      <td>2021-06-05</td>\n",
       "      <td>77963</td>\n",
       "    </tr>\n",
       "  </tbody>\n",
       "</table>\n",
       "</div>"
      ],
      "text/plain": [
       "       country       dates  confirmed_cases\n",
       "0  Afghanistan  2021-06-09            84050\n",
       "1  Afghanistan  2021-06-08            82326\n",
       "2  Afghanistan  2021-06-07            80841\n",
       "3  Afghanistan  2021-06-06            79224\n",
       "4  Afghanistan  2021-06-05            77963"
      ]
     },
     "execution_count": 133,
     "metadata": {},
     "output_type": "execute_result"
    }
   ],
   "source": [
    "dates_df.head()"
   ]
  },
  {
   "cell_type": "code",
   "execution_count": 172,
   "metadata": {},
   "outputs": [
    {
     "name": "stdout",
     "output_type": "stream",
     "text": [
      "194 rows inserted in country_info_tables\n"
     ]
    }
   ],
   "source": [
    "print(\"{0} rows inserted in country_info_tables\".format(len(confirmed_df)))"
   ]
  },
  {
   "cell_type": "code",
   "execution_count": null,
   "metadata": {},
   "outputs": [],
   "source": []
  },
  {
   "cell_type": "code",
   "execution_count": 73,
   "metadata": {},
   "outputs": [],
   "source": [
    "country_etl_data = (0, country_data[0], country_data[1], country_data[2], country_data[3], country_data[4], country_data[5], country_data[6], country_data[7], country_data[8], country_data[9])"
   ]
  },
  {
   "cell_type": "code",
   "execution_count": 74,
   "metadata": {},
   "outputs": [],
   "source": [
    "cursor.execute(country_table_insert, country_etl_data)"
   ]
  },
  {
   "cell_type": "code",
   "execution_count": null,
   "metadata": {},
   "outputs": [],
   "source": [
    "cursor.execute((\"\"\"DROP TABLE IF EXISTS country_info CASCADE\"\"\"))\n",
    "cursor.execute((\"\"\"DROP TABLE IF EXISTS vaccined_info\"\"\"))\n",
    "cursor.execute((\"\"\"DROP TABLE IF EXISTS confirmed_cases\"\"\"))\n",
    "cursor.execute((\"\"\"delete from country_info\"\"\"))\n",
    "cursor.execute((\"\"\"delete from vaccined_info\"\"\"))"
   ]
  },
  {
   "cell_type": "code",
   "execution_count": 169,
   "metadata": {},
   "outputs": [],
   "source": [
    "#country_info table ETL\n",
    "for i, row in confirmed_df.iterrows():\n",
    "    cursor.execute(country_table_insert, (i, row[0], row[1], row[2], row[3], str(row[4]), row[5], row[6], row[7], row[8], row[9]))"
   ]
  },
  {
   "cell_type": "code",
   "execution_count": 190,
   "metadata": {},
   "outputs": [],
   "source": [
    "vaccined_data = vaccined_df.values[0].tolist()"
   ]
  },
  {
   "cell_type": "code",
   "execution_count": 158,
   "metadata": {},
   "outputs": [
    {
     "data": {
      "text/html": [
       "<div>\n",
       "<style scoped>\n",
       "    .dataframe tbody tr th:only-of-type {\n",
       "        vertical-align: middle;\n",
       "    }\n",
       "\n",
       "    .dataframe tbody tr th {\n",
       "        vertical-align: top;\n",
       "    }\n",
       "\n",
       "    .dataframe thead th {\n",
       "        text-align: right;\n",
       "    }\n",
       "</style>\n",
       "<table border=\"1\" class=\"dataframe\">\n",
       "  <thead>\n",
       "    <tr style=\"text-align: right;\">\n",
       "      <th></th>\n",
       "      <th>country</th>\n",
       "      <th>administered</th>\n",
       "      <th>people_vaccinated</th>\n",
       "      <th>people_partially_vaccinated</th>\n",
       "      <th>updated</th>\n",
       "    </tr>\n",
       "  </thead>\n",
       "  <tbody>\n",
       "    <tr>\n",
       "      <th>0</th>\n",
       "      <td>Afghanistan</td>\n",
       "      <td>641295</td>\n",
       "      <td>158343</td>\n",
       "      <td>482952</td>\n",
       "      <td>2021/06/10 00:00:00+00</td>\n",
       "    </tr>\n",
       "    <tr>\n",
       "      <th>1</th>\n",
       "      <td>Albania</td>\n",
       "      <td>803682</td>\n",
       "      <td>310336</td>\n",
       "      <td>493346</td>\n",
       "      <td>2021/06/10 00:00:00+00</td>\n",
       "    </tr>\n",
       "    <tr>\n",
       "      <th>2</th>\n",
       "      <td>Algeria</td>\n",
       "      <td>2500000</td>\n",
       "      <td>0</td>\n",
       "      <td>2500000</td>\n",
       "      <td>2021/06/10 00:00:00+00</td>\n",
       "    </tr>\n",
       "    <tr>\n",
       "      <th>3</th>\n",
       "      <td>Andorra</td>\n",
       "      <td>35926</td>\n",
       "      <td>8303</td>\n",
       "      <td>27613</td>\n",
       "      <td>2021/06/10 00:00:00+00</td>\n",
       "    </tr>\n",
       "    <tr>\n",
       "      <th>4</th>\n",
       "      <td>Angola</td>\n",
       "      <td>1115919</td>\n",
       "      <td>375630</td>\n",
       "      <td>740289</td>\n",
       "      <td>2021/06/10 00:00:00+00</td>\n",
       "    </tr>\n",
       "  </tbody>\n",
       "</table>\n",
       "</div>"
      ],
      "text/plain": [
       "       country  administered  people_vaccinated  people_partially_vaccinated  \\\n",
       "0  Afghanistan        641295             158343                       482952   \n",
       "1      Albania        803682             310336                       493346   \n",
       "2      Algeria       2500000                  0                      2500000   \n",
       "3      Andorra         35926               8303                        27613   \n",
       "4       Angola       1115919             375630                       740289   \n",
       "\n",
       "                  updated  \n",
       "0  2021/06/10 00:00:00+00  \n",
       "1  2021/06/10 00:00:00+00  \n",
       "2  2021/06/10 00:00:00+00  \n",
       "3  2021/06/10 00:00:00+00  \n",
       "4  2021/06/10 00:00:00+00  "
      ]
     },
     "execution_count": 158,
     "metadata": {},
     "output_type": "execute_result"
    }
   ],
   "source": [
    "vaccined_df.head(5)"
   ]
  },
  {
   "cell_type": "code",
   "execution_count": 170,
   "metadata": {},
   "outputs": [],
   "source": [
    "#vaccined_info table ETL\n",
    "for i, row in vaccined_df.iterrows():\n",
    "    cursor.execute(vaccine_country_select.format((row[0])))\n",
    "    results = cursor.fetchone()\n",
    "    \n",
    "    if results:\n",
    "        country_id = results[0]\n",
    "    else:\n",
    "        country_id = None\n",
    "    \n",
    "    cursor.execute(vaccine_table_insert, (i, country_id, row[1], row[2], row[3], row[4]))"
   ]
  },
  {
   "cell_type": "code",
   "execution_count": 132,
   "metadata": {},
   "outputs": [
    {
     "data": {
      "text/html": [
       "<div>\n",
       "<style scoped>\n",
       "    .dataframe tbody tr th:only-of-type {\n",
       "        vertical-align: middle;\n",
       "    }\n",
       "\n",
       "    .dataframe tbody tr th {\n",
       "        vertical-align: top;\n",
       "    }\n",
       "\n",
       "    .dataframe thead th {\n",
       "        text-align: right;\n",
       "    }\n",
       "</style>\n",
       "<table border=\"1\" class=\"dataframe\">\n",
       "  <thead>\n",
       "    <tr style=\"text-align: right;\">\n",
       "      <th></th>\n",
       "      <th>country</th>\n",
       "      <th>administered</th>\n",
       "      <th>people_vaccinated</th>\n",
       "      <th>people_partially_vaccinated</th>\n",
       "      <th>updated</th>\n",
       "    </tr>\n",
       "  </thead>\n",
       "  <tbody>\n",
       "    <tr>\n",
       "      <th>164</th>\n",
       "      <td>Global</td>\n",
       "      <td>5227261824</td>\n",
       "      <td>471380933</td>\n",
       "      <td>925965940</td>\n",
       "      <td>None</td>\n",
       "    </tr>\n",
       "  </tbody>\n",
       "</table>\n",
       "</div>"
      ],
      "text/plain": [
       "    country  administered  people_vaccinated  people_partially_vaccinated  \\\n",
       "164  Global    5227261824          471380933                    925965940   \n",
       "\n",
       "    updated  \n",
       "164    None  "
      ]
     },
     "execution_count": 132,
     "metadata": {},
     "output_type": "execute_result"
    }
   ],
   "source": [
    "#vaccined_df.head()\n",
    "vaccined_df.loc[vaccined_df[\"updated\"].isnull()]"
   ]
  },
  {
   "cell_type": "code",
   "execution_count": null,
   "metadata": {},
   "outputs": [],
   "source": []
  },
  {
   "cell_type": "code",
   "execution_count": null,
   "metadata": {},
   "outputs": [],
   "source": []
  },
  {
   "cell_type": "code",
   "execution_count": null,
   "metadata": {},
   "outputs": [],
   "source": []
  },
  {
   "cell_type": "code",
   "execution_count": null,
   "metadata": {},
   "outputs": [],
   "source": []
  },
  {
   "cell_type": "code",
   "execution_count": null,
   "metadata": {},
   "outputs": [],
   "source": []
  },
  {
   "cell_type": "code",
   "execution_count": null,
   "metadata": {},
   "outputs": [],
   "source": []
  },
  {
   "cell_type": "code",
   "execution_count": null,
   "metadata": {},
   "outputs": [],
   "source": []
  },
  {
   "cell_type": "code",
   "execution_count": null,
   "metadata": {},
   "outputs": [],
   "source": []
  },
  {
   "cell_type": "code",
   "execution_count": null,
   "metadata": {},
   "outputs": [],
   "source": []
  },
  {
   "cell_type": "code",
   "execution_count": null,
   "metadata": {},
   "outputs": [],
   "source": []
  },
  {
   "cell_type": "code",
   "execution_count": null,
   "metadata": {},
   "outputs": [],
   "source": []
  },
  {
   "cell_type": "code",
   "execution_count": null,
   "metadata": {},
   "outputs": [],
   "source": []
  },
  {
   "cell_type": "code",
   "execution_count": null,
   "metadata": {},
   "outputs": [],
   "source": []
  },
  {
   "cell_type": "code",
   "execution_count": null,
   "metadata": {},
   "outputs": [],
   "source": []
  },
  {
   "cell_type": "code",
   "execution_count": null,
   "metadata": {},
   "outputs": [],
   "source": []
  },
  {
   "cell_type": "code",
   "execution_count": null,
   "metadata": {},
   "outputs": [],
   "source": []
  },
  {
   "cell_type": "code",
   "execution_count": null,
   "metadata": {},
   "outputs": [],
   "source": []
  },
  {
   "cell_type": "code",
   "execution_count": null,
   "metadata": {},
   "outputs": [],
   "source": []
  },
  {
   "cell_type": "code",
   "execution_count": null,
   "metadata": {},
   "outputs": [],
   "source": []
  },
  {
   "cell_type": "code",
   "execution_count": 47,
   "metadata": {},
   "outputs": [
    {
     "ename": "KeyError",
     "evalue": "'All'",
     "output_type": "error",
     "traceback": [
      "\u001b[1;31m---------------------------------------------------------------------------\u001b[0m",
      "\u001b[1;31mKeyError\u001b[0m                                  Traceback (most recent call last)",
      "\u001b[1;32m<ipython-input-47-03f6a740d870>\u001b[0m in \u001b[0;36m<module>\u001b[1;34m\u001b[0m\n\u001b[0;32m      1\u001b[0m df_nested_list = pd.json_normalize(\n\u001b[0;32m      2\u001b[0m     \u001b[0mdata\u001b[0m\u001b[1;33m,\u001b[0m\u001b[1;33m\u001b[0m\u001b[1;33m\u001b[0m\u001b[0m\n\u001b[1;32m----> 3\u001b[1;33m     record_path = ['All'])\n\u001b[0m\u001b[0;32m      4\u001b[0m \u001b[1;33m\u001b[0m\u001b[0m\n\u001b[0;32m      5\u001b[0m \u001b[1;31m#####\u001b[0m\u001b[1;33m\u001b[0m\u001b[1;33m\u001b[0m\u001b[1;33m\u001b[0m\u001b[0m\n",
      "\u001b[1;32m~\\Anaconda3\\lib\\site-packages\\pandas\\io\\json\\_normalize.py\u001b[0m in \u001b[0;36m_json_normalize\u001b[1;34m(data, record_path, meta, meta_prefix, record_prefix, errors, sep, max_level)\u001b[0m\n\u001b[0;32m    339\u001b[0m                 \u001b[0mrecords\u001b[0m\u001b[1;33m.\u001b[0m\u001b[0mextend\u001b[0m\u001b[1;33m(\u001b[0m\u001b[0mrecs\u001b[0m\u001b[1;33m)\u001b[0m\u001b[1;33m\u001b[0m\u001b[1;33m\u001b[0m\u001b[0m\n\u001b[0;32m    340\u001b[0m \u001b[1;33m\u001b[0m\u001b[0m\n\u001b[1;32m--> 341\u001b[1;33m     \u001b[0m_recursive_extract\u001b[0m\u001b[1;33m(\u001b[0m\u001b[0mdata\u001b[0m\u001b[1;33m,\u001b[0m \u001b[0mrecord_path\u001b[0m\u001b[1;33m,\u001b[0m \u001b[1;33m{\u001b[0m\u001b[1;33m}\u001b[0m\u001b[1;33m,\u001b[0m \u001b[0mlevel\u001b[0m\u001b[1;33m=\u001b[0m\u001b[1;36m0\u001b[0m\u001b[1;33m)\u001b[0m\u001b[1;33m\u001b[0m\u001b[1;33m\u001b[0m\u001b[0m\n\u001b[0m\u001b[0;32m    342\u001b[0m \u001b[1;33m\u001b[0m\u001b[0m\n\u001b[0;32m    343\u001b[0m     \u001b[0mresult\u001b[0m \u001b[1;33m=\u001b[0m \u001b[0mDataFrame\u001b[0m\u001b[1;33m(\u001b[0m\u001b[0mrecords\u001b[0m\u001b[1;33m)\u001b[0m\u001b[1;33m\u001b[0m\u001b[1;33m\u001b[0m\u001b[0m\n",
      "\u001b[1;32m~\\Anaconda3\\lib\\site-packages\\pandas\\io\\json\\_normalize.py\u001b[0m in \u001b[0;36m_recursive_extract\u001b[1;34m(data, path, seen_meta, level)\u001b[0m\n\u001b[0;32m    311\u001b[0m         \u001b[1;32melse\u001b[0m\u001b[1;33m:\u001b[0m\u001b[1;33m\u001b[0m\u001b[1;33m\u001b[0m\u001b[0m\n\u001b[0;32m    312\u001b[0m             \u001b[1;32mfor\u001b[0m \u001b[0mobj\u001b[0m \u001b[1;32min\u001b[0m \u001b[0mdata\u001b[0m\u001b[1;33m:\u001b[0m\u001b[1;33m\u001b[0m\u001b[1;33m\u001b[0m\u001b[0m\n\u001b[1;32m--> 313\u001b[1;33m                 \u001b[0mrecs\u001b[0m \u001b[1;33m=\u001b[0m \u001b[0m_pull_records\u001b[0m\u001b[1;33m(\u001b[0m\u001b[0mobj\u001b[0m\u001b[1;33m,\u001b[0m \u001b[0mpath\u001b[0m\u001b[1;33m[\u001b[0m\u001b[1;36m0\u001b[0m\u001b[1;33m]\u001b[0m\u001b[1;33m)\u001b[0m\u001b[1;33m\u001b[0m\u001b[1;33m\u001b[0m\u001b[0m\n\u001b[0m\u001b[0;32m    314\u001b[0m                 recs = [\n\u001b[0;32m    315\u001b[0m                     \u001b[0mnested_to_record\u001b[0m\u001b[1;33m(\u001b[0m\u001b[0mr\u001b[0m\u001b[1;33m,\u001b[0m \u001b[0msep\u001b[0m\u001b[1;33m=\u001b[0m\u001b[0msep\u001b[0m\u001b[1;33m,\u001b[0m \u001b[0mmax_level\u001b[0m\u001b[1;33m=\u001b[0m\u001b[0mmax_level\u001b[0m\u001b[1;33m)\u001b[0m\u001b[1;33m\u001b[0m\u001b[1;33m\u001b[0m\u001b[0m\n",
      "\u001b[1;32m~\\Anaconda3\\lib\\site-packages\\pandas\\io\\json\\_normalize.py\u001b[0m in \u001b[0;36m_pull_records\u001b[1;34m(js, spec)\u001b[0m\n\u001b[0;32m    250\u001b[0m         \u001b[1;32mif\u001b[0m \u001b[0mhas\u001b[0m \u001b[0mnon\u001b[0m \u001b[0miterable\u001b[0m \u001b[0mvalue\u001b[0m\u001b[1;33m.\u001b[0m\u001b[1;33m\u001b[0m\u001b[1;33m\u001b[0m\u001b[0m\n\u001b[0;32m    251\u001b[0m         \"\"\"\n\u001b[1;32m--> 252\u001b[1;33m         \u001b[0mresult\u001b[0m \u001b[1;33m=\u001b[0m \u001b[0m_pull_field\u001b[0m\u001b[1;33m(\u001b[0m\u001b[0mjs\u001b[0m\u001b[1;33m,\u001b[0m \u001b[0mspec\u001b[0m\u001b[1;33m)\u001b[0m\u001b[1;33m\u001b[0m\u001b[1;33m\u001b[0m\u001b[0m\n\u001b[0m\u001b[0;32m    253\u001b[0m \u001b[1;33m\u001b[0m\u001b[0m\n\u001b[0;32m    254\u001b[0m         \u001b[1;31m# GH 31507 GH 30145, if result is not Iterable, raise TypeError if not\u001b[0m\u001b[1;33m\u001b[0m\u001b[1;33m\u001b[0m\u001b[1;33m\u001b[0m\u001b[0m\n",
      "\u001b[1;32m~\\Anaconda3\\lib\\site-packages\\pandas\\io\\json\\_normalize.py\u001b[0m in \u001b[0;36m_pull_field\u001b[1;34m(js, spec)\u001b[0m\n\u001b[0;32m    241\u001b[0m                 \u001b[0mresult\u001b[0m \u001b[1;33m=\u001b[0m \u001b[0mresult\u001b[0m\u001b[1;33m[\u001b[0m\u001b[0mfield\u001b[0m\u001b[1;33m]\u001b[0m\u001b[1;33m\u001b[0m\u001b[1;33m\u001b[0m\u001b[0m\n\u001b[0;32m    242\u001b[0m         \u001b[1;32melse\u001b[0m\u001b[1;33m:\u001b[0m\u001b[1;33m\u001b[0m\u001b[1;33m\u001b[0m\u001b[0m\n\u001b[1;32m--> 243\u001b[1;33m             \u001b[0mresult\u001b[0m \u001b[1;33m=\u001b[0m \u001b[0mresult\u001b[0m\u001b[1;33m[\u001b[0m\u001b[0mspec\u001b[0m\u001b[1;33m]\u001b[0m\u001b[1;33m\u001b[0m\u001b[1;33m\u001b[0m\u001b[0m\n\u001b[0m\u001b[0;32m    244\u001b[0m         \u001b[1;32mreturn\u001b[0m \u001b[0mresult\u001b[0m\u001b[1;33m\u001b[0m\u001b[1;33m\u001b[0m\u001b[0m\n\u001b[0;32m    245\u001b[0m \u001b[1;33m\u001b[0m\u001b[0m\n",
      "\u001b[1;31mKeyError\u001b[0m: 'All'"
     ]
    }
   ],
   "source": [
    "df_nested_list = pd.json_normalize(\n",
    "    data, \n",
    "    record_path = ['All'])\n",
    "\n",
    "#####\n",
    "df = pd.read_json('data/nested_deep.json')\n",
    "df['students'].apply(lambda row: glom(row, 'grade.math'))\n",
    "####new_data = pd.read_json('covid_19_confirmed.json', orient= 'columns')"
   ]
  },
  {
   "cell_type": "code",
   "execution_count": null,
   "metadata": {},
   "outputs": [],
   "source": []
  },
  {
   "cell_type": "code",
   "execution_count": null,
   "metadata": {},
   "outputs": [],
   "source": []
  },
  {
   "cell_type": "code",
   "execution_count": null,
   "metadata": {},
   "outputs": [],
   "source": [
    "def create_dataframe(data_keys, data_df):\n",
    "    data_df_list_of_dict = []\n",
    "    for i in data_keys:\n",
    "        temp_dict = {}\n",
    "        data_df_list_of_dict.append({\"country\": str(i), \"population\": data_df[i]['All'][\"population\"] , \n",
    "                                     \"sq_km_area\": data_df[i]['All'][\"sq_km_area\"],\n",
    "                                    \"life_expectancy\": data_df[i]['All'][\"life_expectancy\"], \"elevation_in_meters\": data_df[i]['All'][\"elevation_in_meters\"],\n",
    "                                    \"continent\": data_df[i]['All'][\"continent\"],\"abbreviation\": data_df[i]['All'][\"abbreviation\"], \"location\": data_df[i]['All'][\"location\"],\n",
    "                                    \"iso\": data_df[i]['All'][\"iso\"], \"capital_city\": data_df[i]['All'][\"capital_city\"]})\n",
    "    return data_df_list_of_dict   \n",
    "\n",
    "new_data = create_dataframe(data_keys, data)"
   ]
  },
  {
   "cell_type": "code",
   "execution_count": 48,
   "metadata": {},
   "outputs": [
    {
     "ename": "SyntaxError",
     "evalue": "invalid syntax (<ipython-input-48-8d2b4a9129ed>, line 1)",
     "output_type": "error",
     "traceback": [
      "\u001b[1;36m  File \u001b[1;32m\"<ipython-input-48-8d2b4a9129ed>\"\u001b[1;36m, line \u001b[1;32m1\u001b[0m\n\u001b[1;33m    new  = data['Afghanistan']['All'][\"population\"] if 'population' in data['Afghanistan']['All'] else 'population': None\u001b[0m\n\u001b[1;37m                                                                                                                   ^\u001b[0m\n\u001b[1;31mSyntaxError\u001b[0m\u001b[1;31m:\u001b[0m invalid syntax\n"
     ]
    }
   ],
   "source": [
    "new  = data['Afghanistan']['All'][\"population\"] if 'population' in data['Afghanistan']['All'] else 'population': None\n",
    "data_df[i]['All'][\"population\"] if 'population' in data_df[i]['All'] else 'population':'null'"
   ]
  },
  {
   "cell_type": "code",
   "execution_count": 50,
   "metadata": {},
   "outputs": [
    {
     "ename": "IndentationError",
     "evalue": "unindent does not match any outer indentation level (<tokenize>, line 8)",
     "output_type": "error",
     "traceback": [
      "\u001b[1;36m  File \u001b[1;32m\"<tokenize>\"\u001b[1;36m, line \u001b[1;32m8\u001b[0m\n\u001b[1;33m    \"life_expectancy\": data_df[i]['All'][\"life_expectancy\"], \"elevation_in_meters\": data_df[i]['All'][\"elevation_in_meters\"],\u001b[0m\n\u001b[1;37m    ^\u001b[0m\n\u001b[1;31mIndentationError\u001b[0m\u001b[1;31m:\u001b[0m unindent does not match any outer indentation level\n"
     ]
    }
   ],
   "source": [
    "##def create_dataframe(data_keys, data_df):\n",
    "    data_df_list_of_dict = []\n",
    "    for i in data_keys:\n",
    "        temp_dict = {}\n",
    "        temp_dict['country'] = str(i), temp_dict['population'] = data[i]['All'][\"population\"] if 'population' in data[i]['All'] else temp_dict['population'] = None,\n",
    "            \"population\":data_df[i]['All'][\"population\"] if 'population' in data_df[i]['All'] else 'population': None, \n",
    "                                     \"sq_km_area\": data_df[i]['All'][\"sq_km_area\"],\n",
    "                                    \"life_expectancy\": data_df[i]['All'][\"life_expectancy\"], \"elevation_in_meters\": data_df[i]['All'][\"elevation_in_meters\"],\n",
    "                                    \"continent\": data_df[i]['All'][\"continent\"],\"abbreviation\": data_df[i]['All'][\"abbreviation\"], \"location\": data_df[i]['All'][\"location\"],\n",
    "                                    \"iso\": data_df[i]['All'][\"iso\"], \"capital_city\": data_df[i]['All'][\"capital_city\"]})\n",
    "    return data_df_list_of_dict \n",
    "\n",
    "\n",
    "{temp_dict['population'] : data[i]['All'][\"population\"] if 'population' in data[i]['All'] else temp_dict['population'] = None}"
   ]
  },
  {
   "cell_type": "code",
   "execution_count": null,
   "metadata": {},
   "outputs": [],
   "source": [
    "##def create_dataframe(data_keys, data_df):\n",
    "    data_df_list_of_dict = []\n",
    "    for i in data_keys:\n",
    "        temp_dict = {}\n",
    "        data_df_list_of_dict.append({\"country\": str(i), \"population\": data_df[i]['All'][\"population\"] , \n",
    "                                     \"sq_km_area\": data_df[i]['All'][\"sq_km_area\"],\n",
    "                                    \"life_expectancy\": data_df[i]['All'][\"life_expectancy\"], \"elevation_in_meters\": data_df[i]['All'][\"elevation_in_meters\"],\n",
    "                                    \"continent\": data_df[i]['All'][\"continent\"],\"abbreviation\": data_df[i]['All'][\"abbreviation\"], \"location\": data_df[i]['All'][\"location\"],\n",
    "                                    \"iso\": data_df[i]['All'][\"iso\"], \"capital_city\": data_df[i]['All'][\"capital_city\"]})\n",
    "    return data_df_list_of_dict"
   ]
  },
  {
   "cell_type": "code",
   "execution_count": 90,
   "metadata": {},
   "outputs": [],
   "source": []
  },
  {
   "cell_type": "code",
   "execution_count": 91,
   "metadata": {},
   "outputs": [],
   "source": []
  },
  {
   "cell_type": "code",
   "execution_count": null,
   "metadata": {},
   "outputs": [],
   "source": []
  },
  {
   "cell_type": "code",
   "execution_count": null,
   "metadata": {},
   "outputs": [],
   "source": []
  }
 ],
 "metadata": {
  "kernelspec": {
   "display_name": "Python 3",
   "language": "python",
   "name": "python3"
  },
  "language_info": {
   "codemirror_mode": {
    "name": "ipython",
    "version": 3
   },
   "file_extension": ".py",
   "mimetype": "text/x-python",
   "name": "python",
   "nbconvert_exporter": "python",
   "pygments_lexer": "ipython3",
   "version": "3.7.3"
  }
 },
 "nbformat": 4,
 "nbformat_minor": 4
}
